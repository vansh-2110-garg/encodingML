{
 "cells": [
  {
   "cell_type": "code",
   "execution_count": 1,
   "id": "49da2af5-52c3-4b4d-bb38-c9a5b8ee52bd",
   "metadata": {},
   "outputs": [],
   "source": [
    "import pandas as pd\n",
    "import numpy as np\n",
    "def OrdinalEncoder(df,column):\n",
    "    unique_values = df[column].unique()\n",
    "    ordinal_mapping = {value: index for index, value in enumerate(unique_values)}\n",
    "    df[column + '_ordinal'] = df[column].map(ordinal_mapping)\n",
    "    return df\n",
    "\n",
    "def OneHotEncoding(df, column):\n",
    "    unique_values = df[column].unique() \n",
    "    for value in unique_values:\n",
    "        df[column + '_' + value] = np.where(df[column] == value, 1, 0)\n",
    "    return df\n",
    "\n",
    "\n"
   ]
  },
  {
   "cell_type": "code",
   "execution_count": null,
   "id": "0ddc4f4b-fc20-4563-8515-c4c9c84ac7c5",
   "metadata": {},
   "outputs": [],
   "source": []
  }
 ],
 "metadata": {
  "kernelspec": {
   "display_name": "Python 3 (ipykernel)",
   "language": "python",
   "name": "python3"
  },
  "language_info": {
   "codemirror_mode": {
    "name": "ipython",
    "version": 3
   },
   "file_extension": ".py",
   "mimetype": "text/x-python",
   "name": "python",
   "nbconvert_exporter": "python",
   "pygments_lexer": "ipython3",
   "version": "3.13.0"
  }
 },
 "nbformat": 4,
 "nbformat_minor": 5
}
